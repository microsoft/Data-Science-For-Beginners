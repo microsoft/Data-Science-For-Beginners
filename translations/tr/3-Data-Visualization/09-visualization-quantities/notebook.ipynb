{
 "cells": [
  {
   "cell_type": "markdown",
   "source": [
    "# Haydi kuşlar hakkında bilgi edinelim\n",
    "\n",
    "Kuşlar, doğanın en büyüleyici yaratıklarından bazılarıdır. Onlar hakkında daha fazla bilgi edinmek, çevremizdeki dünyayı daha iyi anlamamıza yardımcı olabilir.\n",
    "\n",
    "## Kuşların temel özellikleri\n",
    "\n",
    "Kuşlar, onları diğer hayvanlardan ayıran birkaç temel özelliğe sahiptir:\n",
    "\n",
    "- **Tüyler**: Tüyler, kuşların en belirgin özelliklerinden biridir. Onlara uçma yeteneği kazandırır ve vücut sıcaklıklarını düzenlemelerine yardımcı olur.  \n",
    "- **Hafif kemikler**: Kuşların kemikleri genellikle hafif ve içi boştur, bu da uçmalarını kolaylaştırır.  \n",
    "- **Yumurta bırakma**: Kuşlar, yavrularını yumurta bırakarak dünyaya getirir.  \n",
    "\n",
    "## Kuşların sınıflandırılması\n",
    "\n",
    "Kuşlar, farklı özelliklerine göre çeşitli gruplara ayrılır. İşte bazı yaygın kuş türleri:\n",
    "\n",
    "1. **Yırtıcı kuşlar**: Kartallar, şahinler ve baykuşlar gibi kuşlar bu gruba girer. Genellikle keskin pençelere ve güçlü gagalara sahiptirler.  \n",
    "2. **Şarkı kuşları**: Bülbüller, serçeler ve ispinozlar gibi kuşlar güzel ötüşleriyle bilinir.  \n",
    "3. **Su kuşları**: Ördekler, kazlar ve flamingolar gibi kuşlar genellikle suya yakın yerlerde yaşar.  \n",
    "\n",
    "## Kuşların yaşam alanları\n",
    "\n",
    "Kuşlar, dünyanın hemen her yerinde bulunabilir. Bazı kuşlar ormanlarda yaşarken, bazıları çöllerde, dağlarda veya şehirlerde yaşayabilir. Yaşam alanları, kuşların türüne ve ihtiyaçlarına bağlı olarak değişir.\n",
    "\n",
    "## Kuş gözlemi\n",
    "\n",
    "Kuş gözlemi, doğayı keşfetmenin ve kuşlar hakkında bilgi edinmenin harika bir yoludur. İşte kuş gözlemine başlamak için bazı ipuçları:\n",
    "\n",
    "- Sessiz olun ve çevrenizi dikkatlice gözlemleyin.  \n",
    "- Bir dürbün ve kuş rehberi edinin.  \n",
    "- Kuşların ötüşlerini dinleyin ve farklı türleri tanımaya çalışın.  \n",
    "\n",
    "Kuşlar, doğanın dengesinde önemli bir rol oynar. Onları korumak ve yaşam alanlarını muhafaza etmek, çevremiz için büyük önem taşır. Kuşlar hakkında daha fazla bilgi edinmek, onların güzelliklerini ve çeşitliliklerini daha iyi anlamamıza yardımcı olur.\n"
   ],
   "metadata": {}
  },
  {
   "cell_type": "markdown",
   "metadata": {},
   "source": [
    "\n---\n\n**Feragatname**:  \nBu belge, [Co-op Translator](https://github.com/Azure/co-op-translator) adlı yapay zeka çeviri hizmeti kullanılarak çevrilmiştir. Doğruluk için çaba göstersek de, otomatik çevirilerin hata veya yanlışlıklar içerebileceğini lütfen unutmayın. Belgenin orijinal dili, yetkili kaynak olarak kabul edilmelidir. Kritik bilgiler için profesyonel insan çevirisi önerilir. Bu çevirinin kullanımından kaynaklanan yanlış anlama veya yanlış yorumlamalardan sorumlu değiliz.\n"
   ]
  }
 ],
 "metadata": {
  "orig_nbformat": 4,
  "language_info": {
   "name": "python",
   "version": "3.7.0",
   "mimetype": "text/x-python",
   "codemirror_mode": {
    "name": "ipython",
    "version": 3
   },
   "pygments_lexer": "ipython3",
   "nbconvert_exporter": "python",
   "file_extension": ".py"
  },
  "kernelspec": {
   "name": "python3",
   "display_name": "Python 3.7.0 64-bit"
  },
  "interpreter": {
   "hash": "70b38d7a306a849643e446cd70466270a13445e5987dfa1344ef2b127438fa4d"
  },
  "coopTranslator": {
   "original_hash": "33e5c5d3f0630388e20f2e161bd4cdf3",
   "translation_date": "2025-09-02T08:47:08+00:00",
   "source_file": "3-Data-Visualization/09-visualization-quantities/notebook.ipynb",
   "language_code": "tr"
  }
 },
 "nbformat": 4,
 "nbformat_minor": 2
}