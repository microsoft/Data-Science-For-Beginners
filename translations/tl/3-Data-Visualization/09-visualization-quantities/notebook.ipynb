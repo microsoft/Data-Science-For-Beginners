{
 "cells": [
  {
   "cell_type": "markdown",
   "source": [
    "# Alamin Natin ang Tungkol sa mga Ibon\n",
    "\n",
    "## Ano ang mga ibon?\n",
    "\n",
    "Ang mga ibon ay mga hayop na may balahibo, pakpak, at tuka. Karamihan sa kanila ay kayang lumipad, ngunit may ilang mga ibon na hindi lumilipad tulad ng ostrich at penguin. Ang mga ibon ay may iba't ibang laki, kulay, at tirahan.\n",
    "\n",
    "## Mga Karaniwang Katangian ng mga Ibon\n",
    "\n",
    "- **Balahibo**: Ang balahibo ay nagbibigay ng init at tumutulong sa kanila sa paglipad.  \n",
    "- **Pakpak**: Bagama't hindi lahat ng ibon ay lumilipad, ang pakpak ay mahalaga para sa balanse at iba pang gawain.  \n",
    "- **Tuka**: Ginagamit nila ang kanilang tuka para sa pagkain, paggawa ng pugad, at pagtatanggol.  \n",
    "\n",
    "[!NOTE] Ang mga ibon ay may matataas na metabolismo, kaya kailangan nila ng maraming pagkain upang manatiling aktibo.\n",
    "\n",
    "## Mga Halimbawa ng Ibon\n",
    "\n",
    "Narito ang ilang halimbawa ng mga ibon at ang kanilang natatanging katangian:\n",
    "\n",
    "1. **Agila**: Kilala sa kanilang matalas na paningin at malalakas na pakpak.  \n",
    "2. **Kalapati**: Madalas makita sa mga lungsod at simbolo ng kapayapaan.  \n",
    "3. **Maya**: Maliit na ibon na karaniwang makikita sa mga kabahayan.  \n",
    "\n",
    "[!TIP] Subukang maglagay ng bird feeder sa inyong bakuran upang makaakit ng iba't ibang uri ng ibon.\n",
    "\n",
    "## Bakit Mahalaga ang mga Ibon?\n",
    "\n",
    "Ang mga ibon ay mahalaga sa ating ekosistema. Narito ang ilang dahilan:\n",
    "\n",
    "- **Pagkalat ng Binhi**: Tumutulong sila sa pagpapalaganap ng mga halaman sa pamamagitan ng pagkain ng prutas at pagkalat ng mga buto.  \n",
    "- **Kontrol sa Peste**: Maraming ibon ang kumakain ng mga insekto na maaaring makasira sa mga pananim.  \n",
    "- **Pagpapaganda ng Kalikasan**: Ang kanilang mga awit at makukulay na balahibo ay nagbibigay ng kasiyahan sa tao.  \n",
    "\n",
    "[!IMPORTANT] Ang pangangalaga sa mga tirahan ng mga ibon ay mahalaga upang mapanatili ang kanilang populasyon.\n",
    "\n",
    "## Paano Tumulong sa mga Ibon?\n",
    "\n",
    "Narito ang ilang simpleng paraan upang makatulong sa mga ibon:\n",
    "\n",
    "- Magtanim ng mga puno at halaman na nagbibigay ng pagkain at tirahan para sa kanila.  \n",
    "- Iwasan ang paggamit ng mga kemikal na maaaring makasama sa kanila.  \n",
    "- Maglagay ng malinis na tubig na maiinom nila.  \n",
    "\n",
    "[!CAUTION] Huwag hawakan ang mga pugad o itlog ng ibon upang hindi sila maistorbo.\n",
    "\n",
    "## Konklusyon\n",
    "\n",
    "Ang mga ibon ay kamangha-manghang nilalang na may mahalagang papel sa ating mundo. Sa pamamagitan ng pag-unawa at pangangalaga sa kanila, makakatulong tayo sa pagpapanatili ng balanse ng kalikasan.  \n",
    "\n",
    "[!TIP] Maglaan ng oras upang obserbahan ang mga ibon sa inyong paligid. Maaari itong maging isang nakakarelaks at nakakaengganyong karanasan!\n"
   ],
   "metadata": {}
  },
  {
   "cell_type": "markdown",
   "metadata": {},
   "source": [
    "\n---\n\n**Paunawa**:  \nAng dokumentong ito ay isinalin gamit ang AI translation service na [Co-op Translator](https://github.com/Azure/co-op-translator). Bagama't sinisikap naming maging tumpak, pakitandaan na ang mga awtomatikong pagsasalin ay maaaring maglaman ng mga pagkakamali o hindi pagkakatugma. Ang orihinal na dokumento sa orihinal nitong wika ang dapat ituring na opisyal na sanggunian. Para sa mahalagang impormasyon, inirerekomenda ang propesyonal na pagsasalin ng tao. Hindi kami mananagot sa anumang hindi pagkakaunawaan o maling interpretasyon na maaaring magmula sa paggamit ng pagsasaling ito.\n"
   ]
  }
 ],
 "metadata": {
  "orig_nbformat": 4,
  "language_info": {
   "name": "python",
   "version": "3.7.0",
   "mimetype": "text/x-python",
   "codemirror_mode": {
    "name": "ipython",
    "version": 3
   },
   "pygments_lexer": "ipython3",
   "nbconvert_exporter": "python",
   "file_extension": ".py"
  },
  "kernelspec": {
   "name": "python3",
   "display_name": "Python 3.7.0 64-bit"
  },
  "interpreter": {
   "hash": "70b38d7a306a849643e446cd70466270a13445e5987dfa1344ef2b127438fa4d"
  },
  "coopTranslator": {
   "original_hash": "33e5c5d3f0630388e20f2e161bd4cdf3",
   "translation_date": "2025-09-02T08:46:57+00:00",
   "source_file": "3-Data-Visualization/09-visualization-quantities/notebook.ipynb",
   "language_code": "tl"
  }
 },
 "nbformat": 4,
 "nbformat_minor": 2
}