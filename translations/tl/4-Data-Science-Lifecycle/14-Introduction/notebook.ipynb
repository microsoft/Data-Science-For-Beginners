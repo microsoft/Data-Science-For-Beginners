{
 "cells": [
  {
   "cell_type": "markdown",
   "source": [
    "# NYC Taxi data sa Taglamig at Tag-init\n",
    "\n",
    "Sumangguni sa [Data dictionary](https://www1.nyc.gov/assets/tlc/downloads/pdf/data_dictionary_trip_records_yellow.pdf) upang matuto pa tungkol sa mga column na ibinigay.\n"
   ],
   "metadata": {}
  },
  {
   "cell_type": "code",
   "execution_count": null,
   "source": [
    "#Install the pandas library\r\n",
    "!pip install pandas"
   ],
   "outputs": [],
   "metadata": {
    "scrolled": true
   }
  },
  {
   "cell_type": "code",
   "execution_count": 7,
   "source": [
    "import pandas as pd\r\n",
    "\r\n",
    "path = '../../data/taxi.csv'\r\n",
    "\r\n",
    "#Load the csv file into a dataframe\r\n",
    "df = pd.read_csv(path)\r\n",
    "\r\n",
    "#Print the dataframe\r\n",
    "print(df)\r\n"
   ],
   "outputs": [
    {
     "output_type": "stream",
     "name": "stdout",
     "text": [
      "     VendorID tpep_pickup_datetime tpep_dropoff_datetime  passenger_count  \\\n",
      "0         2.0  2019-07-15 16:27:53   2019-07-15 16:44:21              3.0   \n",
      "1         2.0  2019-07-17 20:26:35   2019-07-17 20:40:09              6.0   \n",
      "2         2.0  2019-07-06 16:01:08   2019-07-06 16:10:25              1.0   \n",
      "3         1.0  2019-07-18 22:32:23   2019-07-18 22:35:08              1.0   \n",
      "4         2.0  2019-07-19 14:54:29   2019-07-19 15:19:08              1.0   \n",
      "..        ...                  ...                   ...              ...   \n",
      "195       2.0  2019-01-18 08:42:15   2019-01-18 08:56:57              1.0   \n",
      "196       1.0  2019-01-19 04:34:45   2019-01-19 04:43:44              1.0   \n",
      "197       2.0  2019-01-05 10:37:39   2019-01-05 10:42:03              1.0   \n",
      "198       2.0  2019-01-23 10:36:29   2019-01-23 10:44:34              2.0   \n",
      "199       2.0  2019-01-30 06:55:58   2019-01-30 07:07:02              5.0   \n",
      "\n",
      "     trip_distance  RatecodeID store_and_fwd_flag  PULocationID  DOLocationID  \\\n",
      "0             2.02         1.0                  N           186           233   \n",
      "1             1.59         1.0                  N           141           161   \n",
      "2             1.69         1.0                  N           246           249   \n",
      "3             0.90         1.0                  N           229           141   \n",
      "4             4.79         1.0                  N           237           107   \n",
      "..             ...         ...                ...           ...           ...   \n",
      "195           1.18         1.0                  N            43           237   \n",
      "196           2.30         1.0                  N           148           234   \n",
      "197           0.83         1.0                  N           237           263   \n",
      "198           1.12         1.0                  N           144           113   \n",
      "199           2.41         1.0                  N           209           107   \n",
      "\n",
      "     payment_type  fare_amount  extra  mta_tax  tip_amount  tolls_amount  \\\n",
      "0             1.0         12.0    1.0      0.5        4.08           0.0   \n",
      "1             2.0         10.0    0.5      0.5        0.00           0.0   \n",
      "2             2.0          8.5    0.0      0.5        0.00           0.0   \n",
      "3             1.0          4.5    3.0      0.5        1.65           0.0   \n",
      "4             1.0         19.5    0.0      0.5        5.70           0.0   \n",
      "..            ...          ...    ...      ...         ...           ...   \n",
      "195           1.0         10.0    0.0      0.5        2.16           0.0   \n",
      "196           1.0          9.5    0.5      0.5        2.15           0.0   \n",
      "197           1.0          5.0    0.0      0.5        1.16           0.0   \n",
      "198           2.0          7.0    0.0      0.5        0.00           0.0   \n",
      "199           1.0         10.5    0.0      0.5        1.00           0.0   \n",
      "\n",
      "     improvement_surcharge  total_amount  congestion_surcharge  \n",
      "0                      0.3         20.38                   2.5  \n",
      "1                      0.3         13.80                   2.5  \n",
      "2                      0.3         11.80                   2.5  \n",
      "3                      0.3          9.95                   2.5  \n",
      "4                      0.3         28.50                   2.5  \n",
      "..                     ...           ...                   ...  \n",
      "195                    0.3         12.96                   0.0  \n",
      "196                    0.3         12.95                   0.0  \n",
      "197                    0.3          6.96                   0.0  \n",
      "198                    0.3          7.80                   0.0  \n",
      "199                    0.3         12.30                   0.0  \n",
      "\n",
      "[200 rows x 18 columns]\n"
     ]
    }
   ],
   "metadata": {}
  },
  {
   "cell_type": "markdown",
   "metadata": {},
   "source": [
    "\n---\n\n**Paunawa**:  \nAng dokumentong ito ay isinalin gamit ang AI translation service na [Co-op Translator](https://github.com/Azure/co-op-translator). Bagama't sinisikap naming maging tumpak, pakitandaan na ang mga awtomatikong pagsasalin ay maaaring maglaman ng mga pagkakamali o hindi pagkakatugma. Ang orihinal na dokumento sa orihinal nitong wika ang dapat ituring na opisyal na sanggunian. Para sa mahalagang impormasyon, inirerekomenda ang propesyonal na pagsasalin ng tao. Hindi kami mananagot sa anumang hindi pagkakaunawaan o maling interpretasyon na maaaring magmula sa paggamit ng pagsasaling ito.\n"
   ]
  }
 ],
 "metadata": {
  "kernelspec": {
   "name": "python3",
   "display_name": "Python 3.9.7 64-bit ('venv': venv)"
  },
  "language_info": {
   "mimetype": "text/x-python",
   "name": "python",
   "pygments_lexer": "ipython3",
   "codemirror_mode": {
    "name": "ipython",
    "version": 3
   },
   "version": "3.9.7",
   "nbconvert_exporter": "python",
   "file_extension": ".py"
  },
  "name": "04-nyc-taxi-join-weather-in-pandas",
  "notebookId": 1709144033725344,
  "interpreter": {
   "hash": "6b9b57232c4b57163d057191678da2030059e733b8becc68f245de5a75abe84e"
  },
  "coopTranslator": {
   "original_hash": "3bd4c20c4e8f3158f483f0f1cc543bb1",
   "translation_date": "2025-09-02T08:36:06+00:00",
   "source_file": "4-Data-Science-Lifecycle/14-Introduction/notebook.ipynb",
   "language_code": "tl"
  }
 },
 "nbformat": 4,
 "nbformat_minor": 2
}