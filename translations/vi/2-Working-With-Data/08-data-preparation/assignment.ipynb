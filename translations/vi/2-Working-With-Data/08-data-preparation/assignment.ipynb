{
 "cells": [
  {
   "cell_type": "markdown",
   "source": [],
   "metadata": {}
  },
  {
   "cell_type": "markdown",
   "source": [
    "# Bài tập: Đánh giá dữ liệu từ một biểu mẫu\n",
    "\n",
    "Một khách hàng đã thử nghiệm một [biểu mẫu nhỏ](../../../../2-Working-With-Data/08-data-preparation/index.html) để thu thập một số dữ liệu cơ bản về nhóm khách hàng của họ. Họ đã mang kết quả thu thập được đến bạn để xác thực dữ liệu. Bạn có thể mở trang `index.html` trong trình duyệt để xem biểu mẫu.\n",
    "\n",
    "Bạn đã được cung cấp một [bộ dữ liệu các bản ghi csv](../../../../data/form.csv) chứa các mục nhập từ biểu mẫu cũng như một số hình ảnh trực quan cơ bản. Khách hàng chỉ ra rằng một số hình ảnh trực quan trông không chính xác nhưng họ không chắc cách giải quyết vấn đề này. Bạn có thể khám phá nó trong [notebook bài tập](assignment.ipynb).\n",
    "\n",
    "## Hướng dẫn\n",
    "\n",
    "Sử dụng các kỹ thuật trong bài học này để đưa ra các khuyến nghị về biểu mẫu nhằm đảm bảo nó thu thập thông tin chính xác và nhất quán.\n"
   ],
   "metadata": {}
  },
  {
   "cell_type": "code",
   "execution_count": null,
   "source": [
    "!pip install pandas\r\n",
    "!pip install matplotlib"
   ],
   "outputs": [],
   "metadata": {}
  },
  {
   "cell_type": "code",
   "execution_count": 4,
   "source": [
    "import pandas as pd\r\n",
    "import matplotlib.pyplot as plt\r\n",
    "\r\n",
    "#Loading the dataset\r\n",
    "path = '../../data/form.csv'\r\n",
    "form_df = pd.read_csv(path)\r\n",
    "print(form_df)"
   ],
   "outputs": [
    {
     "output_type": "stream",
     "name": "stdout",
     "text": [
      "  birth_month       state   pet\n",
      "0     January         NaN  Cats\n",
      "1         JAN          CA  Cats\n",
      "2        Sept      Hawaii   Dog\n",
      "3     january          AK   Dog\n",
      "4        July          RI  Cats\n",
      "5   September  California  Cats\n",
      "6       April          CA   Dog\n",
      "7     January  California  Cats\n",
      "8    November          FL   Dog\n",
      "9    December     Florida  Cats\n"
     ]
    }
   ],
   "metadata": {}
  },
  {
   "cell_type": "code",
   "execution_count": 7,
   "source": [
    "form_df['state'].value_counts().plot(kind='bar');\r\n",
    "plt.show()"
   ],
   "outputs": [
    {
     "output_type": "display_data",
     "data": {
      "image/png": "[encoded data removed]",
      "text/plain": [
       "<Figure size 432x288 with 1 Axes>"
      ]
     },
     "metadata": {
      "needs_background": "light"
     }
    }
   ],
   "metadata": {}
  },
  {
   "cell_type": "code",
   "execution_count": 8,
   "source": [
    "form_df['birth_month'].value_counts().plot(kind='bar');\r\n",
    "plt.show()"
   ],
   "outputs": [
    {
     "output_type": "display_data",
     "data": {
      "image/png": "[encoded data removed]",
      "text/plain": [
       "<Figure size 432x288 with 1 Axes>"
      ]
     },
     "metadata": {
      "needs_background": "light"
     }
    }
   ],
   "metadata": {}
  },
  {
   "cell_type": "markdown",
   "source": [],
   "metadata": {}
  },
  {
   "cell_type": "markdown",
   "metadata": {},
   "source": [
    "\n---\n\n**Tuyên bố miễn trừ trách nhiệm**:  \nTài liệu này đã được dịch bằng dịch vụ dịch thuật AI [Co-op Translator](https://github.com/Azure/co-op-translator). Mặc dù chúng tôi cố gắng đảm bảo độ chính xác, xin lưu ý rằng các bản dịch tự động có thể chứa lỗi hoặc không chính xác. Tài liệu gốc bằng ngôn ngữ bản địa nên được coi là nguồn tham khảo chính thức. Đối với các thông tin quan trọng, chúng tôi khuyến nghị sử dụng dịch vụ dịch thuật chuyên nghiệp từ con người. Chúng tôi không chịu trách nhiệm cho bất kỳ sự hiểu lầm hoặc diễn giải sai nào phát sinh từ việc sử dụng bản dịch này.\n"
   ]
  }
 ],
 "metadata": {
  "orig_nbformat": 4,
  "language_info": {
   "name": "python",
   "version": "3.9.7",
   "mimetype": "text/x-python",
   "codemirror_mode": {
    "name": "ipython",
    "version": 3
   },
   "pygments_lexer": "ipython3",
   "nbconvert_exporter": "python",
   "file_extension": ".py"
  },
  "kernelspec": {
   "name": "python3",
   "display_name": "Python 3.9.7 64-bit ('venv': venv)"
  },
  "interpreter": {
   "hash": "6b9b57232c4b57163d057191678da2030059e733b8becc68f245de5a75abe84e"
  },
  "coopTranslator": {
   "original_hash": "ea753231e2dbdcf8d2e7e976784cbe2a",
   "translation_date": "2025-09-02T08:28:25+00:00",
   "source_file": "2-Working-With-Data/08-data-preparation/assignment.ipynb",
   "language_code": "vi"
  }
 },
 "nbformat": 4,
 "nbformat_minor": 2
}