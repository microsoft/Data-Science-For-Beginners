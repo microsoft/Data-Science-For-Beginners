{
 "cells": [
  {
   "cell_type": "markdown",
   "source": [
    "# Hãy cùng tìm hiểu về các loài chim\n",
    "\n",
    "Birds are fascinating creatures that can be found all over the world. They come in various shapes, sizes, and colors, making them one of the most diverse groups of animals on the planet.\n",
    "\n",
    "Chim là những sinh vật hấp dẫn có thể được tìm thấy trên khắp thế giới. Chúng có nhiều hình dạng, kích thước và màu sắc khác nhau, khiến chúng trở thành một trong những nhóm động vật đa dạng nhất trên hành tinh.\n",
    "\n",
    "## Characteristics of birds\n",
    "\n",
    "### Feathers\n",
    "Feathers are one of the most distinctive features of birds. They help with flight, insulation, and even attracting mates.\n",
    "\n",
    "### Đặc điểm của chim\n",
    "\n",
    "#### Lông vũ\n",
    "Lông vũ là một trong những đặc điểm nổi bật nhất của chim. Chúng giúp chim bay, giữ ấm và thậm chí thu hút bạn đời.\n",
    "\n",
    "### Beaks\n",
    "Birds have beaks instead of teeth. The shape of a bird's beak often indicates its diet.\n",
    "\n",
    "#### Mỏ\n",
    "Chim có mỏ thay vì răng. Hình dạng của mỏ thường cho biết chế độ ăn uống của chúng.\n",
    "\n",
    "### Eggs\n",
    "Most birds lay eggs, which they incubate until the chicks hatch.\n",
    "\n",
    "#### Trứng\n",
    "Hầu hết các loài chim đều đẻ trứng, và chúng ấp trứng cho đến khi chim con nở.\n",
    "\n",
    "## Types of birds\n",
    "\n",
    "### Songbirds\n",
    "Songbirds are known for their melodious calls. Examples include sparrows, robins, and canaries.\n",
    "\n",
    "### Các loại chim\n",
    "\n",
    "#### Chim hót\n",
    "Chim hót nổi tiếng với tiếng hót du dương của chúng. Ví dụ bao gồm chim sẻ, chim cổ đỏ và chim hoàng yến.\n",
    "\n",
    "### Birds of prey\n",
    "These birds are hunters, with sharp talons and keen eyesight. Examples include eagles, hawks, and owls.\n",
    "\n",
    "#### Chim săn mồi\n",
    "Những loài chim này là thợ săn, với móng vuốt sắc nhọn và thị lực tinh tường. Ví dụ bao gồm đại bàng, diều hâu và cú.\n",
    "\n",
    "### Waterfowl\n",
    "Waterfowl are birds that live near water. Ducks, geese, and swans are common examples.\n",
    "\n",
    "#### Chim nước\n",
    "Chim nước là những loài chim sống gần nước. Vịt, ngỗng và thiên nga là những ví dụ phổ biến.\n",
    "\n",
    "## Fun facts about birds\n",
    "\n",
    "- The ostrich is the largest bird in the world and cannot fly.\n",
    "- Hummingbirds can hover in mid-air by flapping their wings rapidly.\n",
    "- Penguins are birds that cannot fly but are excellent swimmers.\n",
    "\n",
    "### Những sự thật thú vị về chim\n",
    "\n",
    "- Đà điểu là loài chim lớn nhất thế giới và không thể bay.\n",
    "- Chim ruồi có thể lơ lửng giữa không trung bằng cách đập cánh rất nhanh.\n",
    "- Chim cánh cụt là loài chim không thể bay nhưng bơi rất giỏi.\n",
    "\n",
    "## Conclusion\n",
    "Birds are incredible creatures that play important roles in ecosystems. Observing them can be both educational and relaxing.\n",
    "\n",
    "### Kết luận\n",
    "Chim là những sinh vật tuyệt vời đóng vai trò quan trọng trong các hệ sinh thái. Quan sát chúng vừa mang tính giáo dục vừa giúp thư giãn.\n"
   ],
   "metadata": {}
  },
  {
   "cell_type": "markdown",
   "metadata": {},
   "source": [
    "\n---\n\n**Tuyên bố miễn trừ trách nhiệm**:  \nTài liệu này đã được dịch bằng dịch vụ dịch thuật AI [Co-op Translator](https://github.com/Azure/co-op-translator). Mặc dù chúng tôi cố gắng đảm bảo độ chính xác, xin lưu ý rằng các bản dịch tự động có thể chứa lỗi hoặc không chính xác. Tài liệu gốc bằng ngôn ngữ bản địa nên được coi là nguồn tham khảo chính thức. Đối với các thông tin quan trọng, chúng tôi khuyến nghị sử dụng dịch vụ dịch thuật chuyên nghiệp từ con người. Chúng tôi không chịu trách nhiệm cho bất kỳ sự hiểu lầm hoặc diễn giải sai nào phát sinh từ việc sử dụng bản dịch này.\n"
   ]
  }
 ],
 "metadata": {
  "orig_nbformat": 4,
  "language_info": {
   "name": "python",
   "version": "3.7.0",
   "mimetype": "text/x-python",
   "codemirror_mode": {
    "name": "ipython",
    "version": 3
   },
   "pygments_lexer": "ipython3",
   "nbconvert_exporter": "python",
   "file_extension": ".py"
  },
  "kernelspec": {
   "name": "python3",
   "display_name": "Python 3.7.0 64-bit"
  },
  "interpreter": {
   "hash": "70b38d7a306a849643e446cd70466270a13445e5987dfa1344ef2b127438fa4d"
  },
  "coopTranslator": {
   "original_hash": "33e5c5d3f0630388e20f2e161bd4cdf3",
   "translation_date": "2025-09-02T08:47:36+00:00",
   "source_file": "3-Data-Visualization/09-visualization-quantities/notebook.ipynb",
   "language_code": "vi"
  }
 },
 "nbformat": 4,
 "nbformat_minor": 2
}