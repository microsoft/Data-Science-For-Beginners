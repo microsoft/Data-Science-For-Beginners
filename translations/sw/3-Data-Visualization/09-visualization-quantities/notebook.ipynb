{
 "cells": [
  {
   "cell_type": "markdown",
   "source": [
    "# Hebu tujifunze kuhusu ndege\n",
    "\n",
    "## Ndege ni nini?\n",
    "\n",
    "Ndege ni viumbe wenye manyoya, mabawa, na miguu miwili. Wana uwezo wa kuruka, ingawa si ndege wote wanaweza kuruka. Ndege wanapatikana karibu kila sehemu ya dunia, kutoka kwenye misitu ya mvua hadi kwenye maeneo ya barafu.\n",
    "\n",
    "## Makundi ya ndege\n",
    "\n",
    "### Ndege wa majumbani\n",
    "Ndege wa majumbani ni wale ambao mara nyingi huishi karibu na binadamu. Mfano wa ndege wa majumbani ni kama vile kuku, bata, na njiwa.\n",
    "\n",
    "### Ndege wa porini\n",
    "Ndege wa porini ni wale wanaoishi katika mazingira ya asili. Mfano wa ndege wa porini ni kama vile tai, kunguru, na kasuku.\n",
    "\n",
    "## Tabia za ndege\n",
    "\n",
    "- Ndege wengi hujenga viota ili kutaga mayai yao.\n",
    "- Wanatumia mabawa yao kuruka na kusafiri kutoka sehemu moja hadi nyingine.\n",
    "- Ndege wengine huimba au kutoa sauti za kipekee ili kuwasiliana.\n",
    "\n",
    "## Kwa nini ndege ni muhimu?\n",
    "\n",
    "Ndege ni muhimu kwa sababu:\n",
    "- Wanasaidia katika uchavushaji wa mimea.\n",
    "- Wanadhibiti idadi ya wadudu kwa kuwala.\n",
    "- Wanachangia uzuri wa mazingira kwa sauti zao na rangi zao za kuvutia.\n",
    "\n",
    "## Jinsi ya kuwasaidia ndege\n",
    "\n",
    "- Weka maji safi na chakula kwa ajili ya ndege wa majumbani.\n",
    "- Linda mazingira ya asili ya ndege wa porini.\n",
    "- Epuka kutumia kemikali zinazoweza kuathiri afya ya ndege.\n",
    "\n",
    "## Hitimisho\n",
    "\n",
    "Ndege ni sehemu muhimu ya mfumo wa ikolojia. Kujifunza kuhusu ndege na jinsi ya kuwasaidia ni hatua nzuri ya kulinda mazingira yetu. Hebu tuendelee kujifunza zaidi kuhusu viumbe hawa wa ajabu!\n"
   ],
   "metadata": {}
  },
  {
   "cell_type": "markdown",
   "metadata": {},
   "source": [
    "\n---\n\n**Kanusho**:  \nHati hii imetafsiriwa kwa kutumia huduma ya tafsiri ya AI [Co-op Translator](https://github.com/Azure/co-op-translator). Ingawa tunajitahidi kuhakikisha usahihi, tafsiri za kiotomatiki zinaweza kuwa na makosa au kutokuwa sahihi. Hati ya asili katika lugha yake ya awali inapaswa kuchukuliwa kama chanzo cha mamlaka. Kwa taarifa muhimu, tafsiri ya kitaalamu ya binadamu inapendekezwa. Hatutawajibika kwa kutoelewana au tafsiri zisizo sahihi zinazotokana na matumizi ya tafsiri hii.\n"
   ]
  }
 ],
 "metadata": {
  "orig_nbformat": 4,
  "language_info": {
   "name": "python",
   "version": "3.7.0",
   "mimetype": "text/x-python",
   "codemirror_mode": {
    "name": "ipython",
    "version": 3
   },
   "pygments_lexer": "ipython3",
   "nbconvert_exporter": "python",
   "file_extension": ".py"
  },
  "kernelspec": {
   "name": "python3",
   "display_name": "Python 3.7.0 64-bit"
  },
  "interpreter": {
   "hash": "70b38d7a306a849643e446cd70466270a13445e5987dfa1344ef2b127438fa4d"
  },
  "coopTranslator": {
   "original_hash": "33e5c5d3f0630388e20f2e161bd4cdf3",
   "translation_date": "2025-09-02T08:46:28+00:00",
   "source_file": "3-Data-Visualization/09-visualization-quantities/notebook.ipynb",
   "language_code": "sw"
  }
 },
 "nbformat": 4,
 "nbformat_minor": 2
}