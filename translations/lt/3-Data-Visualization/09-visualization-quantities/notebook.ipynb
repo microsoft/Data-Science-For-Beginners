{
 "cells": [
  {
   "cell_type": "markdown",
   "source": [
    "# Sužinokime apie paukščius\n",
    "\n",
    "Paukščiai yra nuostabūs gyvūnai, kurie gyvena visame pasaulyje. Jie turi unikalių savybių, kurios išskiria juos iš kitų gyvūnų.\n",
    "\n",
    "## Pagrindinės paukščių savybės\n",
    "\n",
    "- **Plunksnos**: Paukščiai yra vieninteliai gyvūnai, turintys plunksnas. Jos padeda jiems skristi, išlaikyti šilumą ir apsisaugoti.\n",
    "- **Snapai**: Paukščiai neturi dantų, tačiau jų snapai yra pritaikyti įvairiems maisto tipams.\n",
    "- **Kiaušiniai**: Paukščiai deda kiaušinius, iš kurių išsirita jaunikliai.\n",
    "\n",
    "[!NOTE] Kai kurie paukščiai, pavyzdžiui, pingvinai, negali skristi, tačiau jie puikiai plaukia.\n",
    "\n",
    "## Paukščių gyvenimo būdas\n",
    "\n",
    "Paukščiai gyvena įvairiose buveinėse, nuo miškų iki dykumų. Jie prisitaiko prie aplinkos ir dažnai migruoja, kad surastų maisto ar tinkamas sąlygas veistis.\n",
    "\n",
    "### Mityba\n",
    "\n",
    "Paukščių mityba labai įvairi. Kai kurie valgo sėklas, kiti vabzdžius, o plėšrūnai, kaip ereliai, medžioja kitus gyvūnus.\n",
    "\n",
    "[!TIP] Stebėkite paukščius savo sode – tai puikus būdas sužinoti daugiau apie jų mitybos įpročius.\n",
    "\n",
    "### Bendravimas\n",
    "\n",
    "Paukščiai bendrauja per garsus, dainas ir kūno kalbą. Jų dainos gali būti naudojamos teritorijai žymėti arba porai pritraukti.\n",
    "\n",
    "[!WARNING] Kai kurie paukščiai gali būti agresyvūs, jei jaučia grėsmę savo lizdui.\n",
    "\n",
    "## Kodėl paukščiai svarbūs?\n",
    "\n",
    "Paukščiai atlieka svarbų vaidmenį ekosistemoje. Jie padeda platinti sėklas, kontroliuoti vabzdžių populiaciją ir yra maisto šaltinis kitiems gyvūnams.\n",
    "\n",
    "[!IMPORTANT] Paukščių apsauga yra būtina, kad išlaikytume sveiką gamtos balansą.\n",
    "\n",
    "## Kaip padėti paukščiams?\n",
    "\n",
    "- **Įrengti lesyklas**: Lesyklos gali padėti paukščiams rasti maisto, ypač žiemą.\n",
    "- **Saugoti jų buveines**: Venkite kirsti medžius ar naikinti vietas, kur paukščiai gyvena.\n",
    "- **Šviesti kitus**: Pasakokite draugams ir šeimai apie paukščių svarbą.\n",
    "\n",
    "[!CAUTION] Nepamirškite, kad kai kurie maisto produktai, pavyzdžiui, duona, gali būti kenksmingi paukščiams.\n",
    "\n",
    "## Apibendrinimas\n",
    "\n",
    "Paukščiai yra ne tik gražūs, bet ir labai svarbūs mūsų planetai. Sužinokite daugiau apie juos, stebėkite jų elgesį ir padėkite jiems išlikti.\n"
   ],
   "metadata": {}
  },
  {
   "cell_type": "markdown",
   "metadata": {},
   "source": [
    "\n---\n\n**Atsakomybės apribojimas**:  \nŠis dokumentas buvo išverstas naudojant AI vertimo paslaugą [Co-op Translator](https://github.com/Azure/co-op-translator). Nors siekiame tikslumo, prašome atkreipti dėmesį, kad automatiniai vertimai gali turėti klaidų ar netikslumų. Originalus dokumentas jo gimtąja kalba turėtų būti laikomas autoritetingu šaltiniu. Kritinei informacijai rekomenduojama naudoti profesionalų žmogaus vertimą. Mes neprisiimame atsakomybės už nesusipratimus ar klaidingus interpretavimus, atsiradusius dėl šio vertimo naudojimo.\n"
   ]
  }
 ],
 "metadata": {
  "orig_nbformat": 4,
  "language_info": {
   "name": "python",
   "version": "3.7.0",
   "mimetype": "text/x-python",
   "codemirror_mode": {
    "name": "ipython",
    "version": 3
   },
   "pygments_lexer": "ipython3",
   "nbconvert_exporter": "python",
   "file_extension": ".py"
  },
  "kernelspec": {
   "name": "python3",
   "display_name": "Python 3.7.0 64-bit"
  },
  "interpreter": {
   "hash": "70b38d7a306a849643e446cd70466270a13445e5987dfa1344ef2b127438fa4d"
  },
  "coopTranslator": {
   "original_hash": "33e5c5d3f0630388e20f2e161bd4cdf3",
   "translation_date": "2025-09-01T22:32:56+00:00",
   "source_file": "3-Data-Visualization/09-visualization-quantities/notebook.ipynb",
   "language_code": "lt"
  }
 },
 "nbformat": 4,
 "nbformat_minor": 2
}