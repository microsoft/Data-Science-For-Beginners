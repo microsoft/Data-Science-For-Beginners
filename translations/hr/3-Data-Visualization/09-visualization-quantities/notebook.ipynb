{
 "cells": [
  {
   "cell_type": "markdown",
   "source": [
    "# Naučimo o pticama\n",
    "\n",
    "Ptice su fascinantna stvorenja koja dolaze u raznim oblicima, veličinama i bojama. Ovaj vodič će vam pomoći da naučite više o njima.\n",
    "\n",
    "## Što su ptice?\n",
    "\n",
    "Ptice su toplokrvne životinje koje imaju perje, kljunove i polažu jaja. One su jedinstvene zbog svojih sposobnosti letenja, iako ne mogu sve ptice letjeti.\n",
    "\n",
    "[!NOTE] Neke ptice, poput pingvina, ne mogu letjeti, ali su izvrsni plivači.\n",
    "\n",
    "## Značajke ptica\n",
    "\n",
    "Evo nekoliko ključnih značajki koje ptice čine posebnima:\n",
    "\n",
    "- **Perje**: Perje im pomaže u letenju, izolaciji i prikrivanju.\n",
    "- **Kljunovi**: Kljunovi dolaze u različitim oblicima, ovisno o prehrambenim potrebama ptice.\n",
    "- **Lagane kosti**: Njihove kosti su šuplje, što im omogućuje lakše letenje.\n",
    "\n",
    "[!TIP] Promatrajte oblik kljuna ptice kako biste saznali što jede!\n",
    "\n",
    "## Vrste ptica\n",
    "\n",
    "Postoji tisuće vrsta ptica diljem svijeta. Evo nekoliko primjera:\n",
    "\n",
    "1. **Grabežljivci**: Orlovi, sokolovi i sove.\n",
    "2. **Vodene ptice**: Patke, labudovi i galebovi.\n",
    "3. **Pjevne ptice**: Vrapci, kosovi i slavuj.\n",
    "\n",
    "[!WARNING] Nemojte dirati ptičja gnijezda jer to može uznemiriti ptice.\n",
    "\n",
    "## Zašto su ptice važne?\n",
    "\n",
    "Ptice igraju ključnu ulogu u ekosustavu. One pomažu u oprašivanju biljaka, kontroliraju populaciju insekata i služe kao pokazatelji zdravlja okoliša.\n",
    "\n",
    "[!IMPORTANT] Zaštita ptica i njihovih staništa ključna je za očuvanje prirode.\n",
    "\n",
    "## Kako promatrati ptice?\n",
    "\n",
    "Promatranje ptica može biti zabavna i opuštajuća aktivnost. Evo nekoliko savjeta:\n",
    "\n",
    "- Koristite dalekozor za bolji pogled.\n",
    "- Budite tihi kako ne biste uplašili ptice.\n",
    "- Zabilježite što vidite u dnevnik promatranja.\n",
    "\n",
    "[!CAUTION] Nemojte hraniti divlje ptice hranom koja nije prikladna za njih.\n",
    "\n",
    "## Zaključak\n",
    "\n",
    "Ptice su nevjerojatna stvorenja koja zaslužuju našu pažnju i zaštitu. Nadamo se da vam je ovaj vodič pomogao da ih bolje razumijete!\n"
   ],
   "metadata": {}
  },
  {
   "cell_type": "markdown",
   "metadata": {},
   "source": [
    "\n---\n\n**Odricanje od odgovornosti**:  \nOvaj dokument je preveden pomoću AI usluge za prevođenje [Co-op Translator](https://github.com/Azure/co-op-translator). Iako nastojimo osigurati točnost, imajte na umu da automatski prijevodi mogu sadržavati pogreške ili netočnosti. Izvorni dokument na izvornom jeziku treba smatrati autoritativnim izvorom. Za ključne informacije preporučuje se profesionalni prijevod od strane čovjeka. Ne preuzimamo odgovornost za bilo kakva nesporazuma ili pogrešna tumačenja koja proizlaze iz korištenja ovog prijevoda.\n"
   ]
  }
 ],
 "metadata": {
  "orig_nbformat": 4,
  "language_info": {
   "name": "python",
   "version": "3.7.0",
   "mimetype": "text/x-python",
   "codemirror_mode": {
    "name": "ipython",
    "version": 3
   },
   "pygments_lexer": "ipython3",
   "nbconvert_exporter": "python",
   "file_extension": ".py"
  },
  "kernelspec": {
   "name": "python3",
   "display_name": "Python 3.7.0 64-bit"
  },
  "interpreter": {
   "hash": "70b38d7a306a849643e446cd70466270a13445e5987dfa1344ef2b127438fa4d"
  },
  "coopTranslator": {
   "original_hash": "33e5c5d3f0630388e20f2e161bd4cdf3",
   "translation_date": "2025-09-01T22:32:03+00:00",
   "source_file": "3-Data-Visualization/09-visualization-quantities/notebook.ipynb",
   "language_code": "hr"
  }
 },
 "nbformat": 4,
 "nbformat_minor": 2
}