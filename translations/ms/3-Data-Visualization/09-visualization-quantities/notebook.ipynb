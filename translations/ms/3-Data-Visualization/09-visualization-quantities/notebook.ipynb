{
 "cells": [
  {
   "cell_type": "markdown",
   "source": [
    "# Mari belajar tentang burung\n",
    "\n",
    "Burung adalah makhluk yang menakjubkan dan memainkan peranan penting dalam ekosistem kita. Dalam dokumen ini, kita akan meneroka beberapa fakta menarik tentang burung.\n",
    "\n",
    "## Apa itu burung?\n",
    "\n",
    "Burung adalah haiwan vertebrata berdarah panas yang mempunyai bulu, paruh tanpa gigi, dan bertelur. Mereka tergolong dalam kelas Aves.\n",
    "\n",
    "[!NOTE] Burung terdapat di hampir setiap habitat di dunia, dari hutan tropika hingga kawasan kutub.\n",
    "\n",
    "## Ciri-ciri utama burung\n",
    "\n",
    "1. **Bulu**: Bulu membantu burung untuk terbang, mengawal suhu badan, dan memberikan perlindungan.\n",
    "2. **Sayap**: Kebanyakan burung mempunyai sayap yang membolehkan mereka terbang, walaupun ada juga burung yang tidak boleh terbang seperti burung unta.\n",
    "3. **Paruh**: Paruh burung berbeza-beza bentuk dan saiz bergantung kepada jenis makanan yang mereka makan.\n",
    "4. **Bertelur**: Semua burung bertelur, dan mereka biasanya menjaga telur mereka sehingga menetas.\n",
    "\n",
    "[!TIP] Adakah anda tahu bahawa burung kolibri adalah satu-satunya burung yang boleh terbang ke belakang?\n",
    "\n",
    "## Kepentingan burung\n",
    "\n",
    "Burung memainkan peranan penting dalam alam sekitar, termasuk:\n",
    "\n",
    "- **Penyebaran benih**: Burung membantu menyebarkan benih tumbuhan, yang penting untuk pertumbuhan tumbuhan baru.\n",
    "- **Pengawalan serangga**: Banyak burung memakan serangga, membantu mengawal populasi serangga.\n",
    "- **Penunjuk kesihatan ekosistem**: Kehadiran atau ketiadaan burung tertentu boleh menunjukkan kesihatan ekosistem.\n",
    "\n",
    "[!WARNING] Kehilangan habitat dan perubahan iklim adalah ancaman utama kepada populasi burung di seluruh dunia.\n",
    "\n",
    "## Bagaimana kita boleh membantu burung?\n",
    "\n",
    "1. **Melindungi habitat mereka**: Pastikan kawasan semula jadi seperti hutan dan paya dilindungi.\n",
    "2. **Memberi makan burung**: Sediakan makanan dan air untuk burung, terutamanya semasa musim sejuk.\n",
    "3. **Mengurangkan penggunaan bahan kimia**: Elakkan penggunaan racun perosak yang boleh membahayakan burung.\n",
    "4. **Menyokong organisasi pemuliharaan**: Sertai atau sumbangkan kepada organisasi yang bekerja untuk melindungi burung.\n",
    "\n",
    "[!IMPORTANT] Setiap usaha kecil yang kita lakukan boleh memberi impak besar kepada kelangsungan hidup burung.\n",
    "\n",
    "## Kesimpulan\n",
    "\n",
    "Burung adalah sebahagian penting daripada dunia kita. Dengan memahami dan melindungi mereka, kita juga membantu menjaga keseimbangan alam sekitar. Mari kita lakukan bahagian kita untuk memastikan burung terus berkembang di planet ini!\n"
   ],
   "metadata": {}
  },
  {
   "cell_type": "markdown",
   "metadata": {},
   "source": [
    "\n---\n\n**Penafian**:  \nDokumen ini telah diterjemahkan menggunakan perkhidmatan terjemahan AI [Co-op Translator](https://github.com/Azure/co-op-translator). Walaupun kami berusaha untuk memastikan ketepatan, sila ambil perhatian bahawa terjemahan automatik mungkin mengandungi kesilapan atau ketidaktepatan. Dokumen asal dalam bahasa asalnya harus dianggap sebagai sumber yang berwibawa. Untuk maklumat penting, terjemahan manusia profesional adalah disyorkan. Kami tidak bertanggungjawab atas sebarang salah faham atau salah tafsir yang timbul daripada penggunaan terjemahan ini.\n"
   ]
  }
 ],
 "metadata": {
  "orig_nbformat": 4,
  "language_info": {
   "name": "python",
   "version": "3.7.0",
   "mimetype": "text/x-python",
   "codemirror_mode": {
    "name": "ipython",
    "version": 3
   },
   "pygments_lexer": "ipython3",
   "nbconvert_exporter": "python",
   "file_extension": ".py"
  },
  "kernelspec": {
   "name": "python3",
   "display_name": "Python 3.7.0 64-bit"
  },
  "interpreter": {
   "hash": "70b38d7a306a849643e446cd70466270a13445e5987dfa1344ef2b127438fa4d"
  },
  "coopTranslator": {
   "original_hash": "33e5c5d3f0630388e20f2e161bd4cdf3",
   "translation_date": "2025-09-02T08:42:58+00:00",
   "source_file": "3-Data-Visualization/09-visualization-quantities/notebook.ipynb",
   "language_code": "ms"
  }
 },
 "nbformat": 4,
 "nbformat_minor": 2
}