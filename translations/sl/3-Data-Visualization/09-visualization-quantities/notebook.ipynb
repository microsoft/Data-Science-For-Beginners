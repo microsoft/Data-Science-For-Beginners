{
 "cells": [
  {
   "cell_type": "markdown",
   "source": [
    "# Spoznajmo ptice\n",
    "\n",
    "Ptice so fascinantna bitja, ki jih najdemo po vsem svetu. Imajo perje, kljune in večina jih lahko leti. V tem dokumentu bomo raziskali nekaj zanimivih dejstev o pticah.\n",
    "\n",
    "## Kaj dela ptice edinstvene?\n",
    "\n",
    "- **Perje**: Perje pticam pomaga leteti, jih greje in jih ščiti pred vremenskimi vplivi.  \n",
    "- **Kljuni**: Oblika kljuna je pogosto prilagojena prehranjevalnim navadam ptice.  \n",
    "- **Jajca**: Ptice odlagajo jajca, iz katerih se izvalijo njihovi mladiči.  \n",
    "\n",
    "[!NOTE] Ptice so toplokrvne živali, kar pomeni, da lahko vzdržujejo stalno telesno temperaturo.\n",
    "\n",
    "## Različne vrste ptic\n",
    "\n",
    "Na svetu obstaja več kot 10.000 vrst ptic! Tukaj je nekaj primerov:  \n",
    "\n",
    "1. **Orli**: Znani so po svoji ostri vidljivosti in močnih krempljih.  \n",
    "2. **Pingvini**: Ne morejo leteti, vendar so odlični plavalci.  \n",
    "3. **Kolibriji**: Najmanjše ptice na svetu, ki lahko letijo nazaj.  \n",
    "\n",
    "[!TIP] Če želite opazovati ptice, poskusite obiskati naravni rezervat ali park.\n",
    "\n",
    "## Zakaj so ptice pomembne?\n",
    "\n",
    "Ptice igrajo ključno vlogo v ekosistemih:  \n",
    "\n",
    "- Pomagajo pri širjenju semen.  \n",
    "- Nadzorujejo populacije insektov.  \n",
    "- So pokazatelji zdravja okolja.  \n",
    "\n",
    "[!WARNING] Nekatere vrste ptic so ogrožene zaradi izgube habitata in podnebnih sprememb.\n",
    "\n",
    "## Kako lahko pomagamo pticam?\n",
    "\n",
    "- Postavite ptičje hišice ali hranilnice na svojem dvorišču.  \n",
    "- Posadite avtohtone rastline, ki zagotavljajo hrano in zavetje.  \n",
    "- Podpirajte organizacije, ki se ukvarjajo z ohranjanjem ptic.  \n",
    "\n",
    "[!IMPORTANT] Vsak majhen korak lahko naredi veliko razliko za ptice in njihovo okolje.\n",
    "\n",
    "## Zaključek\n",
    "\n",
    "Ptice so neverjetna bitja, ki jih je vredno občudovati in zaščititi. Z učenjem o njih in z majhnimi dejanji lahko prispevamo k njihovemu preživetju.\n"
   ],
   "metadata": {}
  },
  {
   "cell_type": "markdown",
   "metadata": {},
   "source": [
    "\n---\n\n**Omejitev odgovornosti**:  \nTa dokument je bil preveden z uporabo storitve za strojno prevajanje [Co-op Translator](https://github.com/Azure/co-op-translator). Čeprav si prizadevamo za natančnost, vas prosimo, da upoštevate, da lahko avtomatizirani prevodi vsebujejo napake ali netočnosti. Izvirni dokument v njegovem izvirnem jeziku je treba obravnavati kot avtoritativni vir. Za ključne informacije priporočamo strokovno človeško prevajanje. Ne prevzemamo odgovornosti za morebitna nesporazumevanja ali napačne razlage, ki izhajajo iz uporabe tega prevoda.\n"
   ]
  }
 ],
 "metadata": {
  "orig_nbformat": 4,
  "language_info": {
   "name": "python",
   "version": "3.7.0",
   "mimetype": "text/x-python",
   "codemirror_mode": {
    "name": "ipython",
    "version": 3
   },
   "pygments_lexer": "ipython3",
   "nbconvert_exporter": "python",
   "file_extension": ".py"
  },
  "kernelspec": {
   "name": "python3",
   "display_name": "Python 3.7.0 64-bit"
  },
  "interpreter": {
   "hash": "70b38d7a306a849643e446cd70466270a13445e5987dfa1344ef2b127438fa4d"
  },
  "coopTranslator": {
   "original_hash": "33e5c5d3f0630388e20f2e161bd4cdf3",
   "translation_date": "2025-09-02T08:45:55+00:00",
   "source_file": "3-Data-Visualization/09-visualization-quantities/notebook.ipynb",
   "language_code": "sl"
  }
 },
 "nbformat": 4,
 "nbformat_minor": 2
}