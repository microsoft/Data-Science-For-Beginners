{
 "cells": [
  {
   "cell_type": "markdown",
   "source": [
    "# Opetellaan lintujen maailmaa\n",
    "\n",
    "## Miksi linnut ovat tärkeitä?\n",
    "\n",
    "Linnut ovat olennainen osa ekosysteemiä. Ne auttavat siementen levittämisessä, pölytyksessä ja pitävät tuholaisten määrän kurissa. Lisäksi ne tuovat iloa ja kauneutta ympäristöömme.\n",
    "\n",
    "[!NOTE] Lintujen tarkkailu voi olla rentouttava harrastus, joka auttaa sinua yhdistymään luontoon.\n",
    "\n",
    "## Lintujen ominaisuudet\n",
    "\n",
    "Linnuilla on useita ainutlaatuisia ominaisuuksia, jotka erottavat ne muista eläimistä:\n",
    "\n",
    "- **Sulat**: Sulat auttavat lintuja lentämään ja pitävät ne lämpiminä.\n",
    "- **Nokka**: Nokka on monikäyttöinen työkalu, jota linnut käyttävät syömiseen, rakentamiseen ja puolustautumiseen.\n",
    "- **Muniminen**: Linnut lisääntyvät munimalla, ja ne huolehtivat poikasistaan huolellisesti.\n",
    "\n",
    "[!TIP] Jos haluat oppia lisää lintujen anatomiasta, tutustu paikalliseen kirjastoon tai luontokeskukseen.\n",
    "\n",
    "## Kuinka tunnistaa lintuja?\n",
    "\n",
    "Lintujen tunnistaminen voi olla hauskaa ja palkitsevaa. Tässä muutamia vinkkejä:\n",
    "\n",
    "1. **Katso värejä ja kuvioita**: Lintujen höyhenpeite voi olla hyvin monimuotoinen.\n",
    "2. **Kuuntele ääniä**: Jokaisella lintulajilla on oma ainutlaatuinen laulunsa.\n",
    "3. **Tarkkaile käyttäytymistä**: Lintujen liikkeet ja tavat voivat antaa vihjeitä niiden lajista.\n",
    "\n",
    "[!WARNING] Älä häiritse lintuja niiden pesimäaikana. Tämä voi aiheuttaa stressiä ja vaarantaa niiden poikaset.\n",
    "\n",
    "## Lintujen suojelu\n",
    "\n",
    "Lintujen suojelu on tärkeää niiden säilymisen kannalta. Tässä muutamia tapoja, joilla voit auttaa:\n",
    "\n",
    "- **Istuta puita ja pensaita**: Ne tarjoavat suojaa ja ravintoa linnuille.\n",
    "- **Vältä kemikaaleja**: Torjunta-aineet voivat olla haitallisia linnuille ja niiden ravinnolle.\n",
    "- **Osallistu suojeluprojekteihin**: Monet järjestöt työskentelevät lintujen elinympäristöjen säilyttämiseksi.\n",
    "\n",
    "[!IMPORTANT] Jokainen pieni teko voi tehdä suuren eron lintujen hyvinvoinnille.\n",
    "\n",
    "## Yhteenveto\n",
    "\n",
    "Linnut ovat kiehtovia olentoja, jotka rikastuttavat maailmaamme monin tavoin. Niiden tarkkailu ja suojelu voivat tuoda iloa ja merkitystä elämäämme. Aloita lintujen tutkiminen jo tänään ja opi arvostamaan näitä upeita eläimiä!\n"
   ],
   "metadata": {}
  },
  {
   "cell_type": "markdown",
   "metadata": {},
   "source": [
    "\n---\n\n**Vastuuvapauslauseke**:  \nTämä asiakirja on käännetty käyttämällä tekoälypohjaista käännöspalvelua [Co-op Translator](https://github.com/Azure/co-op-translator). Vaikka pyrimme tarkkuuteen, huomioithan, että automaattiset käännökset voivat sisältää virheitä tai epätarkkuuksia. Alkuperäistä asiakirjaa sen alkuperäisellä kielellä tulisi pitää ensisijaisena lähteenä. Kriittisen tiedon osalta suositellaan ammattimaista ihmiskäännöstä. Emme ole vastuussa väärinkäsityksistä tai virhetulkinnoista, jotka johtuvat tämän käännöksen käytöstä.\n"
   ]
  }
 ],
 "metadata": {
  "orig_nbformat": 4,
  "language_info": {
   "name": "python",
   "version": "3.7.0",
   "mimetype": "text/x-python",
   "codemirror_mode": {
    "name": "ipython",
    "version": 3
   },
   "pygments_lexer": "ipython3",
   "nbconvert_exporter": "python",
   "file_extension": ".py"
  },
  "kernelspec": {
   "name": "python3",
   "display_name": "Python 3.7.0 64-bit"
  },
  "interpreter": {
   "hash": "70b38d7a306a849643e446cd70466270a13445e5987dfa1344ef2b127438fa4d"
  },
  "coopTranslator": {
   "original_hash": "33e5c5d3f0630388e20f2e161bd4cdf3",
   "translation_date": "2025-09-01T22:31:31+00:00",
   "source_file": "3-Data-Visualization/09-visualization-quantities/notebook.ipynb",
   "language_code": "fi"
  }
 },
 "nbformat": 4,
 "nbformat_minor": 2
}