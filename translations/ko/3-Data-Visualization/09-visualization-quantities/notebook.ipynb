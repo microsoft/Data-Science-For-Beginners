{
 "cells": [
  {
   "cell_type": "markdown",
   "source": [
    "# 새에 대해 알아봅시다\n",
    "\n",
    "새는 깃털로 덮인 척추동물로, 대부분 날 수 있는 능력을 가지고 있습니다. 이들은 다양한 크기와 색상을 가지고 있으며, 전 세계적으로 발견됩니다.\n",
    "\n",
    "## 새의 주요 특징\n",
    "\n",
    "- **깃털**: 깃털은 새의 가장 독특한 특징으로, 비행과 체온 조절에 도움을 줍니다.\n",
    "- **부리**: 새는 이빨 대신 부리를 사용하며, 부리의 형태는 먹이 종류에 따라 다양합니다.\n",
    "- **알**: 새는 딱딱한 껍질로 보호된 알을 낳습니다.\n",
    "\n",
    "## 새의 분류\n",
    "\n",
    "새는 다양한 종류로 나뉘며, 각 종류는 고유한 특징을 가지고 있습니다. 몇 가지 예는 다음과 같습니다:\n",
    "\n",
    "- **참새**: 작은 크기의 새로, 도시와 시골에서 흔히 볼 수 있습니다.\n",
    "- **독수리**: 강력한 날개와 날카로운 시력을 가진 맹금류입니다.\n",
    "- **펭귄**: 날 수 없지만 수영에 뛰어난 능력을 가진 새입니다.\n",
    "\n",
    "## 새를 관찰하는 방법\n",
    "\n",
    "새를 관찰하는 것은 자연을 즐길 수 있는 훌륭한 방법입니다. 다음은 새를 관찰할 때 유용한 팁입니다:\n",
    "\n",
    "- **조용히 행동하기**: 새는 소리에 민감하므로, 조용히 움직이는 것이 중요합니다.\n",
    "- **쌍안경 사용하기**: 멀리 있는 새를 더 잘 볼 수 있습니다.\n",
    "- **적절한 시간 선택하기**: 새는 아침과 저녁에 가장 활발합니다.\n",
    "\n",
    "새에 대해 더 알고 싶다면, 지역 도서관이나 온라인 자료를 활용해 보세요!\n"
   ],
   "metadata": {}
  },
  {
   "cell_type": "markdown",
   "metadata": {},
   "source": [
    "\n---\n\n**면책 조항**:  \n이 문서는 AI 번역 서비스 [Co-op Translator](https://github.com/Azure/co-op-translator)를 사용하여 번역되었습니다. 정확성을 위해 최선을 다하고 있지만, 자동 번역에는 오류나 부정확성이 포함될 수 있습니다. 원본 문서를 해당 언어로 작성된 상태에서 권위 있는 자료로 간주해야 합니다. 중요한 정보의 경우, 전문적인 인간 번역을 권장합니다. 이 번역 사용으로 인해 발생하는 오해나 잘못된 해석에 대해 책임을 지지 않습니다.\n"
   ]
  }
 ],
 "metadata": {
  "orig_nbformat": 4,
  "language_info": {
   "name": "python",
   "version": "3.7.0",
   "mimetype": "text/x-python",
   "codemirror_mode": {
    "name": "ipython",
    "version": 3
   },
   "pygments_lexer": "ipython3",
   "nbconvert_exporter": "python",
   "file_extension": ".py"
  },
  "kernelspec": {
   "name": "python3",
   "display_name": "Python 3.7.0 64-bit"
  },
  "interpreter": {
   "hash": "70b38d7a306a849643e446cd70466270a13445e5987dfa1344ef2b127438fa4d"
  },
  "coopTranslator": {
   "original_hash": "33e5c5d3f0630388e20f2e161bd4cdf3",
   "translation_date": "2025-09-01T22:32:45+00:00",
   "source_file": "3-Data-Visualization/09-visualization-quantities/notebook.ipynb",
   "language_code": "ko"
  }
 },
 "nbformat": 4,
 "nbformat_minor": 2
}