{
 "cells": [
  {
   "cell_type": "markdown",
   "source": [
    "# 一起來了解鳥類吧\n",
    "\n",
    "## 鳥類是什麼？\n",
    "\n",
    "鳥類是一種擁有羽毛的溫血動物。牠們是地球上最具多樣性的生物之一，從小巧的蜂鳥到巨大的鴕鳥，種類繁多。\n",
    "\n",
    "[!NOTE] 鳥類的羽毛不僅用於飛行，還能提供保暖和偽裝。\n",
    "\n",
    "---\n",
    "\n",
    "## 鳥類的主要特徵\n",
    "\n",
    "1. **羽毛**：所有鳥類都有羽毛，這是牠們的標誌性特徵。\n",
    "2. **喙**：鳥類沒有牙齒，牠們用喙來進食。\n",
    "3. **蛋**：鳥類產下硬殼的蛋。\n",
    "4. **骨骼**：鳥類的骨骼輕巧但堅固，適合飛行。\n",
    "\n",
    "[!TIP] 並非所有鳥類都能飛行，例如企鵝和鴕鳥。\n",
    "\n",
    "---\n",
    "\n",
    "## 鳥類的棲息地\n",
    "\n",
    "鳥類幾乎可以在任何地方找到，從熱帶雨林到寒冷的極地。牠們的適應能力非常強，能夠在各種環境中生存。\n",
    "\n",
    "[!WARNING] 棲息地的破壞對鳥類的生存構成了重大威脅。\n",
    "\n",
    "---\n",
    "\n",
    "## 為什麼鳥類重要？\n",
    "\n",
    "- **生態平衡**：鳥類在控制昆蟲數量和傳播種子方面扮演著重要角色。\n",
    "- **文化意義**：鳥類在藝術、文學和宗教中經常出現。\n",
    "- **科學研究**：鳥類幫助我們了解進化、行為和生態系統。\n",
    "\n",
    "[!IMPORTANT] 保護鳥類就是保護我們的生態系統。\n",
    "\n",
    "---\n",
    "\n",
    "## 如何幫助鳥類？\n",
    "\n",
    "1. **提供食物和水**：在庭院中放置鳥食器和水盆。\n",
    "2. **種植本地植物**：這些植物能吸引鳥類並提供棲息地。\n",
    "3. **避免使用殺蟲劑**：化學物質可能對鳥類有害。\n",
    "4. **支持保育組織**：參與或捐助保護鳥類的活動。\n",
    "\n",
    "[!CAUTION] 不要餵食鳥類加工食品，這可能對牠們的健康有害。\n",
    "\n",
    "---\n",
    "\n",
    "## 結語\n",
    "\n",
    "鳥類是我們星球上不可或缺的一部分。通過了解和保護牠們，我們可以確保未來的世代也能欣賞到牠們的美麗和多樣性。\n"
   ],
   "metadata": {}
  },
  {
   "cell_type": "markdown",
   "metadata": {},
   "source": [
    "\n---\n\n**免責聲明**：  \n本文件使用 AI 翻譯服務 [Co-op Translator](https://github.com/Azure/co-op-translator) 進行翻譯。我們致力於提供準確的翻譯，但請注意，自動翻譯可能包含錯誤或不準確之處。應以原始語言的文件作為權威來源。對於關鍵資訊，建議尋求專業人工翻譯。我們對因使用此翻譯而引起的任何誤解或誤釋不承擔責任。\n"
   ]
  }
 ],
 "metadata": {
  "orig_nbformat": 4,
  "language_info": {
   "name": "python",
   "version": "3.7.0",
   "mimetype": "text/x-python",
   "codemirror_mode": {
    "name": "ipython",
    "version": 3
   },
   "pygments_lexer": "ipython3",
   "nbconvert_exporter": "python",
   "file_extension": ".py"
  },
  "kernelspec": {
   "name": "python3",
   "display_name": "Python 3.7.0 64-bit"
  },
  "interpreter": {
   "hash": "70b38d7a306a849643e446cd70466270a13445e5987dfa1344ef2b127438fa4d"
  },
  "coopTranslator": {
   "original_hash": "33e5c5d3f0630388e20f2e161bd4cdf3",
   "translation_date": "2025-09-02T08:42:48+00:00",
   "source_file": "3-Data-Visualization/09-visualization-quantities/notebook.ipynb",
   "language_code": "mo"
  }
 },
 "nbformat": 4,
 "nbformat_minor": 2
}