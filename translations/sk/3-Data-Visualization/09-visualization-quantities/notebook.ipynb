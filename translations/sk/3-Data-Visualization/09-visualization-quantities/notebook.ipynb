{
 "cells": [
  {
   "cell_type": "markdown",
   "source": [
    "# Poďme sa naučiť o vtákoch\n",
    "\n",
    "## Úvod\n",
    "\n",
    "Vtáky sú fascinujúce tvory, ktoré nájdeme takmer všade na svete. Majú perie, krídla a väčšina z nich dokáže lietať. V tejto príručke sa dozviete viac o ich vlastnostiach, správaní a rôznych druhoch.\n",
    "\n",
    "[!NOTE] Táto príručka je určená pre začiatočníkov, ktorí sa chcú dozvedieť viac o vtákoch.\n",
    "\n",
    "---\n",
    "\n",
    "## Základné vlastnosti vtákov\n",
    "\n",
    "Vtáky majú niekoľko unikátnych vlastností, ktoré ich odlišujú od iných živočíchov:\n",
    "\n",
    "- **Perie**: Perie pomáha vtákom lietať, udržiavať teplo a slúži aj na komunikáciu.\n",
    "- **Krídla**: Väčšina vtákov má krídla, ktoré im umožňujú lietať.\n",
    "- **Zobák**: Vtáky nemajú zuby, ale používajú zobák na jedenie, stavbu hniezd a obranu.\n",
    "- **Vajíčka**: Vtáky kladú vajíčka, z ktorých sa liahnu mláďatá.\n",
    "\n",
    "[!TIP] Ak chcete pozorovať vtáky, skúste si zaobstarať ďalekohľad a nájsť pokojné miesto v prírode.\n",
    "\n",
    "---\n",
    "\n",
    "## Typy vtákov\n",
    "\n",
    "Existuje mnoho druhov vtákov, ktoré sa líšia veľkosťou, farbou a správaním. Tu je niekoľko príkladov:\n",
    "\n",
    "### Spevavé vtáky\n",
    "Spevavé vtáky, ako napríklad slávik alebo sýkorka, sú známe svojím melodickým spevom.\n",
    "\n",
    "### Dravé vtáky\n",
    "Dravé vtáky, ako orol alebo sokol, majú ostré pazúry a silný zobák, ktoré používajú na lov.\n",
    "\n",
    "### Vodné vtáky\n",
    "Vodné vtáky, ako kačice alebo labute, žijú v blízkosti vody a majú nohy prispôsobené na plávanie.\n",
    "\n",
    "[!WARNING] Niektoré vtáky môžu byť agresívne, ak sa cítia ohrozené. Pozorujte ich z bezpečnej vzdialenosti.\n",
    "\n",
    "---\n",
    "\n",
    "## Starostlivosť o vtáky\n",
    "\n",
    "Ak chcete pomôcť vtákom vo vašej oblasti, môžete:\n",
    "\n",
    "- **Postaviť kŕmidlo**: Kŕmidlá poskytujú vtákom potravu, najmä v zime.\n",
    "- **Zabezpečiť vodu**: Miska s vodou môže byť pre vtáky užitočná, najmä počas horúcich dní.\n",
    "- **Vysadiť stromy a kríky**: Stromy a kríky poskytujú vtákom útočisko a miesto na hniezdenie.\n",
    "\n",
    "[!IMPORTANT] Nepodávajte vtákom jedlo, ktoré je pre nich škodlivé, ako napríklad chlieb.\n",
    "\n",
    "---\n",
    "\n",
    "## Záver\n",
    "\n",
    "Vtáky sú úžasné tvory, ktoré zohrávajú dôležitú úlohu v ekosystéme. Pozorovanie vtákov môže byť relaxačné a poučné. Dúfame, že táto príručka vám pomohla lepšie pochopiť svet vtákov.\n",
    "\n",
    "[!CAUTION] Pamätajte, že vtáky sú divoké zvieratá. Rešpektujte ich priestor a správanie.\n"
   ],
   "metadata": {}
  },
  {
   "cell_type": "markdown",
   "metadata": {},
   "source": [
    "\n---\n\n**Upozornenie**:  \nTento dokument bol preložený pomocou služby na automatický preklad [Co-op Translator](https://github.com/Azure/co-op-translator). Aj keď sa snažíme o presnosť, upozorňujeme, že automatické preklady môžu obsahovať chyby alebo nepresnosti. Pôvodný dokument v jeho pôvodnom jazyku by mal byť považovaný za autoritatívny zdroj. Pre kritické informácie sa odporúča profesionálny ľudský preklad. Nezodpovedáme za akékoľvek nedorozumenia alebo nesprávne interpretácie vyplývajúce z použitia tohto prekladu.\n"
   ]
  }
 ],
 "metadata": {
  "orig_nbformat": 4,
  "language_info": {
   "name": "python",
   "version": "3.7.0",
   "mimetype": "text/x-python",
   "codemirror_mode": {
    "name": "ipython",
    "version": 3
   },
   "pygments_lexer": "ipython3",
   "nbconvert_exporter": "python",
   "file_extension": ".py"
  },
  "kernelspec": {
   "name": "python3",
   "display_name": "Python 3.7.0 64-bit"
  },
  "interpreter": {
   "hash": "70b38d7a306a849643e446cd70466270a13445e5987dfa1344ef2b127438fa4d"
  },
  "coopTranslator": {
   "original_hash": "33e5c5d3f0630388e20f2e161bd4cdf3",
   "translation_date": "2025-09-02T08:45:42+00:00",
   "source_file": "3-Data-Visualization/09-visualization-quantities/notebook.ipynb",
   "language_code": "sk"
  }
 },
 "nbformat": 4,
 "nbformat_minor": 2
}