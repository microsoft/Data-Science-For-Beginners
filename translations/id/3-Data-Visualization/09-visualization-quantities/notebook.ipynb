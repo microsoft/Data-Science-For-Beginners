{
 "cells": [
  {
   "cell_type": "markdown",
   "source": [
    "# Mari belajar tentang burung\n",
    "\n",
    "Burung adalah makhluk yang luar biasa. Mereka memiliki kemampuan untuk terbang, bernyanyi, dan beberapa bahkan dapat meniru suara manusia. Dalam panduan ini, kita akan menjelajahi berbagai jenis burung, habitat mereka, dan beberapa fakta menarik tentang mereka.\n",
    "\n",
    "## Apa itu burung?\n",
    "\n",
    "Burung adalah hewan bertulang belakang yang memiliki bulu, paruh, dan biasanya dapat terbang. Mereka termasuk dalam kelas Aves dan memiliki ciri khas seperti:\n",
    "\n",
    "- **Bulu**: Membantu mereka terbang dan menjaga suhu tubuh.\n",
    "- **Paruh**: Digunakan untuk makan, membangun sarang, dan melindungi diri.\n",
    "- **Telur**: Burung bertelur untuk berkembang biak.\n",
    "\n",
    "## Jenis burung\n",
    "\n",
    "Ada ribuan spesies burung di seluruh dunia. Berikut adalah beberapa kategori utama:\n",
    "\n",
    "1. **Burung pemangsa**: Seperti elang dan burung hantu, mereka memiliki penglihatan tajam dan cakar kuat untuk menangkap mangsa.\n",
    "2. **Burung penyanyi**: Burung seperti kenari dan robin dikenal karena nyanyian mereka yang indah.\n",
    "3. **Burung air**: Bebek, angsa, dan flamingo hidup di dekat air dan memiliki adaptasi khusus untuk berenang.\n",
    "4. **Burung eksotis**: Burung seperti burung beo dan toucan memiliki warna cerah dan sering ditemukan di daerah tropis.\n",
    "\n",
    "## Habitat burung\n",
    "\n",
    "Burung dapat ditemukan di hampir semua habitat di dunia, termasuk:\n",
    "\n",
    "- **Hutan**: Banyak burung tinggal di hutan karena menyediakan makanan dan tempat berlindung.\n",
    "- **Padang rumput**: Burung seperti burung pipit sering ditemukan di padang rumput terbuka.\n",
    "- **Daerah perkotaan**: Merpati dan burung gereja sering terlihat di kota-kota besar.\n",
    "- **Pantai**: Burung camar dan pelikan sering terlihat di dekat laut.\n",
    "\n",
    "## Fakta menarik tentang burung\n",
    "\n",
    "- Burung kolibri adalah satu-satunya burung yang dapat terbang mundur.\n",
    "- Burung unta adalah burung terbesar di dunia, tetapi tidak bisa terbang.\n",
    "- Beberapa burung, seperti burung layang-layang, menghabiskan sebagian besar hidup mereka di udara.\n",
    "\n",
    "## Mengapa burung penting?\n",
    "\n",
    "Burung memainkan peran penting dalam ekosistem kita. Mereka membantu menyebarkan biji, mengontrol populasi serangga, dan menjadi indikator kesehatan lingkungan. Selain itu, burung juga memberikan kebahagiaan bagi banyak orang melalui keindahan dan suara mereka.\n",
    "\n",
    "## Bagaimana cara melindungi burung?\n",
    "\n",
    "Ada beberapa cara kita dapat membantu melindungi burung:\n",
    "\n",
    "- **Menanam pohon**: Memberikan tempat berlindung dan makanan bagi burung.\n",
    "- **Mengurangi penggunaan pestisida**: Pestisida dapat meracuni burung dan mangsa mereka.\n",
    "- **Mendukung konservasi**: Berkontribusi pada organisasi yang bekerja untuk melindungi burung dan habitat mereka.\n",
    "\n",
    "Mari kita jaga burung agar generasi mendatang juga dapat menikmati keindahan mereka!\n"
   ],
   "metadata": {}
  },
  {
   "cell_type": "markdown",
   "metadata": {},
   "source": [
    "\n---\n\n**Penafian**:  \nDokumen ini telah diterjemahkan menggunakan layanan penerjemahan AI [Co-op Translator](https://github.com/Azure/co-op-translator). Meskipun kami berusaha untuk memberikan hasil yang akurat, harap diperhatikan bahwa terjemahan otomatis mungkin mengandung kesalahan atau ketidakakuratan. Dokumen asli dalam bahasa aslinya harus dianggap sebagai sumber yang otoritatif. Untuk informasi yang bersifat kritis, disarankan menggunakan jasa penerjemahan manusia profesional. Kami tidak bertanggung jawab atas kesalahpahaman atau penafsiran yang keliru yang timbul dari penggunaan terjemahan ini.\n"
   ]
  }
 ],
 "metadata": {
  "orig_nbformat": 4,
  "language_info": {
   "name": "python",
   "version": "3.7.0",
   "mimetype": "text/x-python",
   "codemirror_mode": {
    "name": "ipython",
    "version": 3
   },
   "pygments_lexer": "ipython3",
   "nbconvert_exporter": "python",
   "file_extension": ".py"
  },
  "kernelspec": {
   "name": "python3",
   "display_name": "Python 3.7.0 64-bit"
  },
  "interpreter": {
   "hash": "70b38d7a306a849643e446cd70466270a13445e5987dfa1344ef2b127438fa4d"
  },
  "coopTranslator": {
   "original_hash": "33e5c5d3f0630388e20f2e161bd4cdf3",
   "translation_date": "2025-09-01T22:32:21+00:00",
   "source_file": "3-Data-Visualization/09-visualization-quantities/notebook.ipynb",
   "language_code": "id"
  }
 },
 "nbformat": 4,
 "nbformat_minor": 2
}